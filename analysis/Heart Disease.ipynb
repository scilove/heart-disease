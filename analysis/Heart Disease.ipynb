{
 "cells": [
  {
   "cell_type": "markdown",
   "metadata": {},
   "source": [
    "# **Heart Disease**\n",
    "## **Introduction**\n",
    "Heart Failure remains one of the leading cause of mortality worldwide. Effective analysis and modelling of clinical records can provide valuable insights into the factors contributing to heart failure enabling healthcare professionals to make informed decision and improve performance.\n",
    "\n",
    "## **Exploratory Data Analysis**\n",
    "This is the analysic of the heart failure clinical records. The dataset contains the medical records of 299 patients who had heart failure collected during theif follow-up period. Each paient profile has 13 clinical records."
   ]
  },
  {
   "cell_type": "code",
   "execution_count": 5,
   "metadata": {},
   "outputs": [],
   "source": [
    "import pandas as pd\n",
    "from src.data_inspection import DataInspector, DataTypeInspection, SummaryStatisticsInspection"
   ]
  },
  {
   "cell_type": "code",
   "execution_count": 6,
   "metadata": {},
   "outputs": [],
   "source": [
    "df = pd.read_csv(\"../datasets/heart_failure_clinical_records_dataset.csv\")"
   ]
  },
  {
   "cell_type": "code",
   "execution_count": 7,
   "metadata": {},
   "outputs": [],
   "source": [
    "# Step 1: Data Inspection\n",
    "# --------------------------------\n",
    "inspector = DataInspector(DataTypeInspection())"
   ]
  },
  {
   "cell_type": "code",
   "execution_count": 8,
   "metadata": {},
   "outputs": [
    {
     "name": "stdout",
     "output_type": "stream",
     "text": [
      "\n",
      "Data Types and Non-NULL counts:\n",
      "<class 'pandas.core.frame.DataFrame'>\n",
      "RangeIndex: 299 entries, 0 to 298\n",
      "Data columns (total 13 columns):\n",
      " #   Column                    Non-Null Count  Dtype  \n",
      "---  ------                    --------------  -----  \n",
      " 0   age                       299 non-null    float64\n",
      " 1   anaemia                   299 non-null    int64  \n",
      " 2   creatinine_phosphokinase  299 non-null    int64  \n",
      " 3   diabetes                  299 non-null    int64  \n",
      " 4   ejection_fraction         299 non-null    int64  \n",
      " 5   high_blood_pressure       299 non-null    int64  \n",
      " 6   platelets                 299 non-null    float64\n",
      " 7   serum_creatinine          299 non-null    float64\n",
      " 8   serum_sodium              299 non-null    int64  \n",
      " 9   sex                       299 non-null    int64  \n",
      " 10  smoking                   299 non-null    int64  \n",
      " 11  time                      299 non-null    int64  \n",
      " 12  DEATH_EVENT               299 non-null    int64  \n",
      "dtypes: float64(3), int64(10)\n",
      "memory usage: 30.5 KB\n",
      "None\n"
     ]
    }
   ],
   "source": [
    "inspector.inspect(df)"
   ]
  },
  {
   "cell_type": "code",
   "execution_count": 10,
   "metadata": {},
   "outputs": [
    {
     "name": "stdout",
     "output_type": "stream",
     "text": [
      "\n",
      "Summary statistics for `numerical` features:\n",
      "              age     anaemia  ...        time  DEATH_EVENT\n",
      "count  299.000000  299.000000  ...  299.000000    299.00000\n",
      "mean    60.833893    0.431438  ...  130.260870      0.32107\n",
      "std     11.894809    0.496107  ...   77.614208      0.46767\n",
      "min     40.000000    0.000000  ...    4.000000      0.00000\n",
      "25%     51.000000    0.000000  ...   73.000000      0.00000\n",
      "50%     60.000000    0.000000  ...  115.000000      0.00000\n",
      "75%     70.000000    1.000000  ...  203.000000      1.00000\n",
      "max     95.000000    1.000000  ...  285.000000      1.00000\n",
      "\n",
      "[8 rows x 13 columns]\n",
      "\n",
      "Summary statistics for `categorical` features:\n",
      "`data` does not contain categorical features.\n"
     ]
    }
   ],
   "source": [
    "inspector.set_strategy(SummaryStatisticsInspection())\n",
    "inspector.inspect(df)"
   ]
  },
  {
   "cell_type": "code",
   "execution_count": null,
   "metadata": {},
   "outputs": [],
   "source": []
  }
 ],
 "metadata": {
  "kernelspec": {
   "display_name": "env",
   "language": "python",
   "name": "python3"
  },
  "language_info": {
   "codemirror_mode": {
    "name": "ipython",
    "version": 3
   },
   "file_extension": ".py",
   "mimetype": "text/x-python",
   "name": "python",
   "nbconvert_exporter": "python",
   "pygments_lexer": "ipython3",
   "version": "3.12.1"
  }
 },
 "nbformat": 4,
 "nbformat_minor": 2
}
