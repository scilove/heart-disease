{
 "cells": [
  {
   "cell_type": "markdown",
   "metadata": {},
   "source": [
    "# **Heart Disease**\n",
    "## **Introduction**\n",
    "Heart Failure remains one of the leading cause of mortality worldwide. Effective analysis and modelling of clinical records can provide valuable insights into the factors contributing to heart failure enabling healthcare professionals to make informed decision and improve performance.\n",
    "\n",
    "## **Project Objective**\n",
    "\n",
    "This machine learning project aims to analyze clinical records of patients with heart failure using Python. The primary objectives are:\n",
    "\n",
    "1. **Data Exploration:** Examine the distribution and characteristics of clinical variables.\n",
    "2. **Feature Engineering:** Select and transform relevant features for modeling.\n",
    "3. **Model Development:** Train and evaluate machine learning models to predict heart disease outcomes.\n",
    "4. **Insight Generation:** Identify key factors associated with heart disease and provide actionable recommendations.\n"
   ]
  },
  {
   "cell_type": "markdown",
   "metadata": {},
   "source": [
    "## **Importing Libraries and Loading Data**"
   ]
  },
  {
   "cell_type": "code",
   "execution_count": 1,
   "metadata": {},
   "outputs": [],
   "source": [
    "import warnings\n",
    "import sys\n",
    "import pandas as pd\n",
    "\n",
    "sys.path.append(\"..\")\n",
    "\n",
    "from analysis_src.data_inspection import DataInspector, DataTypeInspection, SummaryStatisticsInspection\n",
    "from analysis_src.missing_values_analysis import SimpleMissingValuesAnalysis\n",
    "from src.clean_data import SimpleDataCleaner\n",
    "\n",
    "warnings.filterwarnings(\"ignore\")\n",
    "df = pd.read_csv(\"../datasets/heart_failure_clinical_records_dataset.csv\")"
   ]
  },
  {
   "cell_type": "markdown",
   "metadata": {},
   "source": [
    "## **Data Preparation**\n",
    "The data was cleaned by transforming each feature into the right format using custom Python Classes."
   ]
  },
  {
   "cell_type": "code",
   "execution_count": 11,
   "metadata": {},
   "outputs": [],
   "source": [
    "cleaner = SimpleDataCleaner()\n",
    "cleaned_data = cleaner.clean_data(df)"
   ]
  },
  {
   "cell_type": "markdown",
   "metadata": {},
   "source": [
    "## **Exploratory Data Analysis**"
   ]
  },
  {
   "cell_type": "code",
   "execution_count": 3,
   "metadata": {},
   "outputs": [
    {
     "name": "stdout",
     "output_type": "stream",
     "text": [
      "\n",
      "Data Types and Non-NULL counts:\n",
      "<class 'pandas.core.frame.DataFrame'>\n",
      "RangeIndex: 299 entries, 0 to 298\n",
      "Data columns (total 13 columns):\n",
      " #   Column                    Non-Null Count  Dtype  \n",
      "---  ------                    --------------  -----  \n",
      " 0   age                       299 non-null    float64\n",
      " 1   anaemia                   299 non-null    object \n",
      " 2   creatinine_phosphokinase  299 non-null    int64  \n",
      " 3   diabetes                  299 non-null    object \n",
      " 4   ejection_fraction         299 non-null    int64  \n",
      " 5   high_blood_pressure       299 non-null    object \n",
      " 6   platelets                 299 non-null    float64\n",
      " 7   serum_creatinine          299 non-null    float64\n",
      " 8   serum_sodium              299 non-null    int64  \n",
      " 9   sex                       299 non-null    object \n",
      " 10  smoking                   299 non-null    object \n",
      " 11  time                      299 non-null    int64  \n",
      " 12  death_event               299 non-null    int64  \n",
      "dtypes: float64(3), int64(5), object(5)\n",
      "memory usage: 30.5+ KB\n",
      "None\n"
     ]
    }
   ],
   "source": [
    "# Step 1: Data Inspection\n",
    "inspector = DataInspector(DataTypeInspection())\n",
    "inspector.inspect(cleaned_data)"
   ]
  },
  {
   "cell_type": "markdown",
   "metadata": {},
   "source": [
    "### **Data Inspection Results**\n",
    "The dataset has been successfully loaded and cleaned. Below is a summary of the cleaned data:\n",
    "\n",
    "**Data Overview**\n",
    "The dataset contains 299 records of patients with heart failure. Each record includes the following variables:\n",
    "\n",
    "- **age:** Age of the patient (float)\n",
    "- **anaemia:** Whether the patient has anaemia (object)\n",
    "- **creatinine_phosphokinase:** Level of the CPK enzyme in the blood (int)\n",
    "- **diabetes:** Whether the patient has diabetes (object)\n",
    "- **ejection_fraction:** Percentage of blood leaving the heart at each contraction (int)\n",
    "- **high_blood_pressure:** Whether the patient has high blood pressure (object)\n",
    "- **platelets:** Platelets in the blood (float)\n",
    "- **serum_creatinine:** Level of serum creatinine in the blood (float)\n",
    "- **serum_sodium:** Level of serum sodium in the blood (int)\n",
    "- **sex:** Gender of the patient (object)\n",
    "- **smoking:** Whether the patient smokes (object)\n",
    "- **time:** Follow-up period (days) (int)\n",
    "- **death_event:** Whether the heart failure led to a death event during the follow-up period (int)\n",
    "\n",
    "### **Sample Data**\n",
    "Here is a sample of the cleaned data:\n",
    "\n",
    "|   | age | anaemia | creatinine_phosphokinase | diabetes | ejection_fraction | high_blood_pressure | platelets | serum_creatinine | serum_sodium | sex   | smoking | time | death_event |\n",
    "|---|-----|---------|--------------------------|----------|-------------------|---------------------|-----------|------------------|--------------|-------|---------|------|-------------|\n",
    "| 0 | 75.0| No      | 582                      | No       | 20                | Yes                 | 265000.00 | 1.9              | 130          | Man   | No      | 4    | 1           |\n",
    "| 1 | 55.0| No      | 7861                     | No       | 38                | No                  | 263358.03 | 1.1              | 136          | Man   | No      | 6    | 1           |\n",
    "| 2 | 65.0| No      | 146                      | No       | 20                | No                  | 162000.00 | 1.3              | 129          | Man   | Yes     | 7    | 1           |\n",
    "| 3 | 50.0| Yes     | 111                      | No       | 20                | No                  | 210000.00 | 1.9              | 137          | Man   | No      | 7    | 1           |\n",
    "| 4 | 65.0| Yes     | 160                      | Yes      | 20                | No                  | 327000.00 | 2.7              | 116          | Woman | No      | 8    | 1           |\n",
    "\n",
    "### **Data Types**\n",
    "The data types of the columns are as follows:\n",
    "\n",
    "- **float64:** 3 columns\n",
    "- **int64:** 5 columns\n",
    "- **object:** 5 columns\n",
    "\n",
    "The dataset has no missing values.\n",
    "\n",
    "The dataset is now ready for further analysis and modeling."
   ]
  },
  {
   "cell_type": "code",
   "execution_count": 14,
   "metadata": {},
   "outputs": [
    {
     "name": "stdout",
     "output_type": "stream",
     "text": [
      "\n",
      "Summary statistics for `numerical` features:\n",
      "              age  creatinine_phosphokinase  ejection_fraction      platelets  \\\n",
      "count  299.000000                299.000000         299.000000     299.000000   \n",
      "mean    60.833893                581.839465          38.083612  263358.029264   \n",
      "std     11.894809                970.287881          11.834841   97804.236869   \n",
      "min     40.000000                 23.000000          14.000000   25100.000000   \n",
      "25%     51.000000                116.500000          30.000000  212500.000000   \n",
      "50%     60.000000                250.000000          38.000000  262000.000000   \n",
      "75%     70.000000                582.000000          45.000000  303500.000000   \n",
      "max     95.000000               7861.000000          80.000000  850000.000000   \n",
      "\n",
      "       serum_creatinine  serum_sodium        time  death_event  \n",
      "count         299.00000    299.000000  299.000000    299.00000  \n",
      "mean            1.39388    136.625418  130.260870      0.32107  \n",
      "std             1.03451      4.412477   77.614208      0.46767  \n",
      "min             0.50000    113.000000    4.000000      0.00000  \n",
      "25%             0.90000    134.000000   73.000000      0.00000  \n",
      "50%             1.10000    137.000000  115.000000      0.00000  \n",
      "75%             1.40000    140.000000  203.000000      1.00000  \n",
      "max             9.40000    148.000000  285.000000      1.00000  \n",
      "\n",
      "Summary statistics for `categorical` features:\n",
      "       anaemia diabetes high_blood_pressure  sex smoking\n",
      "count      299      299                 299  299     299\n",
      "unique       1        1                   1    1       1\n",
      "top        Yes      Yes                 Yes  Man     Yes\n",
      "freq       299      299                 299  299     299\n"
     ]
    }
   ],
   "source": [
    "inspector.set_strategy(SummaryStatisticsInspection())\n",
    "inspector.inspect(cleaned_data)"
   ]
  },
  {
   "cell_type": "markdown",
   "metadata": {},
   "source": [
    "### **Summary Statistics**\n",
    "\n",
    "The summary statistics of the cleaned dataset provide an overview of the central tendency, dispersion, and shape of the distribution of each feature. Below is a detailed summary of the key statistics for each variable:\n",
    "\n",
    "- **age:** \n",
    "    - Mean: 60.83 years\n",
    "    - Standard Deviation: 11.89 years\n",
    "    - Minimum: 40 years\n",
    "    - Maximum: 95 years\n",
    "\n",
    "- **creatinine_phosphokinase:** \n",
    "    - Mean: 581.84 units/L\n",
    "    - Standard Deviation: 970.29 units/L\n",
    "    - Minimum: 23 units/L\n",
    "    - Maximum: 7861 units/L\n",
    "\n",
    "- **ejection_fraction:** \n",
    "    - Mean: 38.08%\n",
    "    - Standard Deviation: 11.83%\n",
    "    - Minimum: 14%\n",
    "    - Maximum: 80%\n",
    "\n",
    "- **platelets:** \n",
    "    - Mean: 263358.03 platelets/mL\n",
    "    - Standard Deviation: 97804.24 platelets/mL\n",
    "    - Minimum: 25100 platelets/mL\n",
    "    - Maximum: 850000 platelets/mL\n",
    "\n",
    "- **serum_creatinine:** \n",
    "    - Mean: 1.39 mg/dL\n",
    "    - Standard Deviation: 1.03 mg/dL\n",
    "    - Minimum: 0.50 mg/dL\n",
    "    - Maximum: 9.40 mg/dL\n",
    "\n",
    "- **serum_sodium:** \n",
    "    - Mean: 136.63 mEq/L\n",
    "    - Standard Deviation: 4.41 mEq/L\n",
    "    - Minimum: 113 mEq/L\n",
    "    - Maximum: 148 mEq/L\n",
    "\n",
    "- **time:** \n",
    "    - Mean: 130.26 days\n",
    "    - Standard Deviation: 77.87 days\n",
    "    - Minimum: 4 days\n",
    "    - Maximum: 285 days\n",
    "\n",
    "- **death_event:** \n",
    "    - Mean: 0.32 (32% of patients experienced a death event)\n",
    "    - Standard Deviation: 0.47\n",
    "    - Minimum: 0\n",
    "    - Maximum: 1\n",
    "\n",
    "These statistics provide a comprehensive understanding of the dataset, highlighting the variability and distribution of each clinical variable. This information is crucial for further analysis and modeling to predict heart disease outcomes."
   ]
  },
  {
   "cell_type": "code",
   "execution_count": null,
   "metadata": {},
   "outputs": [],
   "source": []
  }
 ],
 "metadata": {
  "kernelspec": {
   "display_name": "env",
   "language": "python",
   "name": "python3"
  },
  "language_info": {
   "codemirror_mode": {
    "name": "ipython",
    "version": 3
   },
   "file_extension": ".py",
   "mimetype": "text/x-python",
   "name": "python",
   "nbconvert_exporter": "python",
   "pygments_lexer": "ipython3",
   "version": "3.12.1"
  }
 },
 "nbformat": 4,
 "nbformat_minor": 2
}
